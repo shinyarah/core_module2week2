{
  "nbformat": 4,
  "nbformat_minor": 0,
  "metadata": {
    "colab": {
      "name": "Moringa_Data_Science_Core_Module2_W2_Independent_Project_2021_05_Wanjiru_Kinyara\"",
      "provenance": [],
      "collapsed_sections": [],
      "authorship_tag": "ABX9TyNzo3c1/Mr8RViQ7ZmCYFfD",
      "include_colab_link": true
    },
    "kernelspec": {
      "name": "python3",
      "display_name": "Python 3"
    },
    "language_info": {
      "name": "python"
    }
  },
  "cells": [
    {
      "cell_type": "markdown",
      "metadata": {
        "id": "view-in-github",
        "colab_type": "text"
      },
      "source": [
        "<a href=\"https://colab.research.google.com/github/shinyarah/core_module2week2/blob/main/Moringa_Data_Science_Core_Module2_W2_Independent_Project_2021_05_Wanjiru_Kinyara%22.ipynb\" target=\"_parent\"><img src=\"https://colab.research.google.com/assets/colab-badge.svg\" alt=\"Open In Colab\"/></a>"
      ]
    },
    {
      "cell_type": "markdown",
      "metadata": {
        "id": "q6mHlWvj8wkr"
      },
      "source": [
        "#DEFINING THE QUESTION\n",
        "\n",
        "## a) Specifying the question\n",
        "factors affecting housing prices\n",
        "\n",
        "model to accurately predict the sales of prices\n",
        "\n",
        "\n",
        "## b) Defining the metric for success\n",
        "This will be achieved when among the five models built, there is a model identified that predicts the price of houses perfectly, or better compared to the other models\n",
        "\n",
        "\n",
        "## c) Understanding the context\n",
        "Hass Consulting is interested to study the factors that affect housing prices. The dataset availed contains a number of predictor variables.\n",
        "\n",
        "\n",
        "## d) Experimental design\n",
        "1. Perform EDA\n",
        "2. Check for multicollinearity\n",
        "3. Build the Multiple Linear Regression model\n",
        "4. Build the quantile model\n",
        "5. Build the Ridge Regression model\n",
        "6. Build the Lasso Regression model\n",
        "7. Build the Elastic Net Regression model\n",
        "\n",
        "\n",
        "\n"
      ]
    },
    {
      "cell_type": "markdown",
      "metadata": {
        "id": "Epb8W-o19vb-"
      },
      "source": [
        "#DATA PREPARATION"
      ]
    },
    {
      "cell_type": "code",
      "metadata": {
        "id": "wSaCMSF-5ygr"
      },
      "source": [
        "# Loading the Dataset\n",
        "# Dataset url = \"http://bit.ly/IndependentProjectWeek7Dataset\"\n",
        "\n",
        "#importing libraries for reading data\n",
        "import pandas as pd\n",
        "import numpy as np\n",
        "\n",
        "#reading the data \n",
        "url = \"http://bit.ly/IndependentProjectWeek7Dataset\"\n",
        "dataset=pd.read_csv(url)"
      ],
      "execution_count": 1,
      "outputs": []
    },
    {
      "cell_type": "code",
      "metadata": {
        "colab": {
          "base_uri": "https://localhost:8080/",
          "height": 224
        },
        "id": "Rhw8cRsA56_X",
        "outputId": "20cde16a-b5d6-4ed7-f3fd-945b11b0d5c1"
      },
      "source": [
        "dataset.head()"
      ],
      "execution_count": 2,
      "outputs": [
        {
          "output_type": "execute_result",
          "data": {
            "text/html": [
              "<div>\n",
              "<style scoped>\n",
              "    .dataframe tbody tr th:only-of-type {\n",
              "        vertical-align: middle;\n",
              "    }\n",
              "\n",
              "    .dataframe tbody tr th {\n",
              "        vertical-align: top;\n",
              "    }\n",
              "\n",
              "    .dataframe thead th {\n",
              "        text-align: right;\n",
              "    }\n",
              "</style>\n",
              "<table border=\"1\" class=\"dataframe\">\n",
              "  <thead>\n",
              "    <tr style=\"text-align: right;\">\n",
              "      <th></th>\n",
              "      <th>id</th>\n",
              "      <th>price</th>\n",
              "      <th>bedrooms</th>\n",
              "      <th>bathrooms</th>\n",
              "      <th>sqft_living</th>\n",
              "      <th>sqft_lot</th>\n",
              "      <th>floors</th>\n",
              "      <th>waterfront</th>\n",
              "      <th>view</th>\n",
              "      <th>condition</th>\n",
              "      <th>grade</th>\n",
              "      <th>sqft_above</th>\n",
              "      <th>sqft_basement</th>\n",
              "      <th>yr_built</th>\n",
              "      <th>yr_renovated</th>\n",
              "      <th>zipcode</th>\n",
              "      <th>lat</th>\n",
              "      <th>long</th>\n",
              "      <th>sqft_living15</th>\n",
              "      <th>sqft_lot15</th>\n",
              "    </tr>\n",
              "  </thead>\n",
              "  <tbody>\n",
              "    <tr>\n",
              "      <th>0</th>\n",
              "      <td>7129300520</td>\n",
              "      <td>221900.0</td>\n",
              "      <td>3</td>\n",
              "      <td>1.00</td>\n",
              "      <td>1180</td>\n",
              "      <td>5650</td>\n",
              "      <td>1.0</td>\n",
              "      <td>0</td>\n",
              "      <td>0</td>\n",
              "      <td>3</td>\n",
              "      <td>7</td>\n",
              "      <td>1180</td>\n",
              "      <td>0</td>\n",
              "      <td>1955</td>\n",
              "      <td>0</td>\n",
              "      <td>98178</td>\n",
              "      <td>47.5112</td>\n",
              "      <td>-122.257</td>\n",
              "      <td>1340</td>\n",
              "      <td>5650</td>\n",
              "    </tr>\n",
              "    <tr>\n",
              "      <th>1</th>\n",
              "      <td>6414100192</td>\n",
              "      <td>538000.0</td>\n",
              "      <td>3</td>\n",
              "      <td>2.25</td>\n",
              "      <td>2570</td>\n",
              "      <td>7242</td>\n",
              "      <td>2.0</td>\n",
              "      <td>0</td>\n",
              "      <td>0</td>\n",
              "      <td>3</td>\n",
              "      <td>7</td>\n",
              "      <td>2170</td>\n",
              "      <td>400</td>\n",
              "      <td>1951</td>\n",
              "      <td>1991</td>\n",
              "      <td>98125</td>\n",
              "      <td>47.7210</td>\n",
              "      <td>-122.319</td>\n",
              "      <td>1690</td>\n",
              "      <td>7639</td>\n",
              "    </tr>\n",
              "    <tr>\n",
              "      <th>2</th>\n",
              "      <td>5631500400</td>\n",
              "      <td>180000.0</td>\n",
              "      <td>2</td>\n",
              "      <td>1.00</td>\n",
              "      <td>770</td>\n",
              "      <td>10000</td>\n",
              "      <td>1.0</td>\n",
              "      <td>0</td>\n",
              "      <td>0</td>\n",
              "      <td>3</td>\n",
              "      <td>6</td>\n",
              "      <td>770</td>\n",
              "      <td>0</td>\n",
              "      <td>1933</td>\n",
              "      <td>0</td>\n",
              "      <td>98028</td>\n",
              "      <td>47.7379</td>\n",
              "      <td>-122.233</td>\n",
              "      <td>2720</td>\n",
              "      <td>8062</td>\n",
              "    </tr>\n",
              "    <tr>\n",
              "      <th>3</th>\n",
              "      <td>2487200875</td>\n",
              "      <td>604000.0</td>\n",
              "      <td>4</td>\n",
              "      <td>3.00</td>\n",
              "      <td>1960</td>\n",
              "      <td>5000</td>\n",
              "      <td>1.0</td>\n",
              "      <td>0</td>\n",
              "      <td>0</td>\n",
              "      <td>5</td>\n",
              "      <td>7</td>\n",
              "      <td>1050</td>\n",
              "      <td>910</td>\n",
              "      <td>1965</td>\n",
              "      <td>0</td>\n",
              "      <td>98136</td>\n",
              "      <td>47.5208</td>\n",
              "      <td>-122.393</td>\n",
              "      <td>1360</td>\n",
              "      <td>5000</td>\n",
              "    </tr>\n",
              "    <tr>\n",
              "      <th>4</th>\n",
              "      <td>1954400510</td>\n",
              "      <td>510000.0</td>\n",
              "      <td>3</td>\n",
              "      <td>2.00</td>\n",
              "      <td>1680</td>\n",
              "      <td>8080</td>\n",
              "      <td>1.0</td>\n",
              "      <td>0</td>\n",
              "      <td>0</td>\n",
              "      <td>3</td>\n",
              "      <td>8</td>\n",
              "      <td>1680</td>\n",
              "      <td>0</td>\n",
              "      <td>1987</td>\n",
              "      <td>0</td>\n",
              "      <td>98074</td>\n",
              "      <td>47.6168</td>\n",
              "      <td>-122.045</td>\n",
              "      <td>1800</td>\n",
              "      <td>7503</td>\n",
              "    </tr>\n",
              "  </tbody>\n",
              "</table>\n",
              "</div>"
            ],
            "text/plain": [
              "           id     price  bedrooms  ...     long  sqft_living15  sqft_lot15\n",
              "0  7129300520  221900.0         3  ... -122.257           1340        5650\n",
              "1  6414100192  538000.0         3  ... -122.319           1690        7639\n",
              "2  5631500400  180000.0         2  ... -122.233           2720        8062\n",
              "3  2487200875  604000.0         4  ... -122.393           1360        5000\n",
              "4  1954400510  510000.0         3  ... -122.045           1800        7503\n",
              "\n",
              "[5 rows x 20 columns]"
            ]
          },
          "metadata": {
            "tags": []
          },
          "execution_count": 2
        }
      ]
    },
    {
      "cell_type": "code",
      "metadata": {
        "colab": {
          "base_uri": "https://localhost:8080/",
          "height": 224
        },
        "id": "YahiT5GpMfMR",
        "outputId": "2fe5836e-fe55-47c1-f3f7-3910c0ee9f9d"
      },
      "source": [
        "dataset.tail()"
      ],
      "execution_count": 3,
      "outputs": [
        {
          "output_type": "execute_result",
          "data": {
            "text/html": [
              "<div>\n",
              "<style scoped>\n",
              "    .dataframe tbody tr th:only-of-type {\n",
              "        vertical-align: middle;\n",
              "    }\n",
              "\n",
              "    .dataframe tbody tr th {\n",
              "        vertical-align: top;\n",
              "    }\n",
              "\n",
              "    .dataframe thead th {\n",
              "        text-align: right;\n",
              "    }\n",
              "</style>\n",
              "<table border=\"1\" class=\"dataframe\">\n",
              "  <thead>\n",
              "    <tr style=\"text-align: right;\">\n",
              "      <th></th>\n",
              "      <th>id</th>\n",
              "      <th>price</th>\n",
              "      <th>bedrooms</th>\n",
              "      <th>bathrooms</th>\n",
              "      <th>sqft_living</th>\n",
              "      <th>sqft_lot</th>\n",
              "      <th>floors</th>\n",
              "      <th>waterfront</th>\n",
              "      <th>view</th>\n",
              "      <th>condition</th>\n",
              "      <th>grade</th>\n",
              "      <th>sqft_above</th>\n",
              "      <th>sqft_basement</th>\n",
              "      <th>yr_built</th>\n",
              "      <th>yr_renovated</th>\n",
              "      <th>zipcode</th>\n",
              "      <th>lat</th>\n",
              "      <th>long</th>\n",
              "      <th>sqft_living15</th>\n",
              "      <th>sqft_lot15</th>\n",
              "    </tr>\n",
              "  </thead>\n",
              "  <tbody>\n",
              "    <tr>\n",
              "      <th>21608</th>\n",
              "      <td>263000018</td>\n",
              "      <td>360000.0</td>\n",
              "      <td>3</td>\n",
              "      <td>2.50</td>\n",
              "      <td>1530</td>\n",
              "      <td>1131</td>\n",
              "      <td>3.0</td>\n",
              "      <td>0</td>\n",
              "      <td>0</td>\n",
              "      <td>3</td>\n",
              "      <td>8</td>\n",
              "      <td>1530</td>\n",
              "      <td>0</td>\n",
              "      <td>2009</td>\n",
              "      <td>0</td>\n",
              "      <td>98103</td>\n",
              "      <td>47.6993</td>\n",
              "      <td>-122.346</td>\n",
              "      <td>1530</td>\n",
              "      <td>1509</td>\n",
              "    </tr>\n",
              "    <tr>\n",
              "      <th>21609</th>\n",
              "      <td>6600060120</td>\n",
              "      <td>400000.0</td>\n",
              "      <td>4</td>\n",
              "      <td>2.50</td>\n",
              "      <td>2310</td>\n",
              "      <td>5813</td>\n",
              "      <td>2.0</td>\n",
              "      <td>0</td>\n",
              "      <td>0</td>\n",
              "      <td>3</td>\n",
              "      <td>8</td>\n",
              "      <td>2310</td>\n",
              "      <td>0</td>\n",
              "      <td>2014</td>\n",
              "      <td>0</td>\n",
              "      <td>98146</td>\n",
              "      <td>47.5107</td>\n",
              "      <td>-122.362</td>\n",
              "      <td>1830</td>\n",
              "      <td>7200</td>\n",
              "    </tr>\n",
              "    <tr>\n",
              "      <th>21610</th>\n",
              "      <td>1523300141</td>\n",
              "      <td>402101.0</td>\n",
              "      <td>2</td>\n",
              "      <td>0.75</td>\n",
              "      <td>1020</td>\n",
              "      <td>1350</td>\n",
              "      <td>2.0</td>\n",
              "      <td>0</td>\n",
              "      <td>0</td>\n",
              "      <td>3</td>\n",
              "      <td>7</td>\n",
              "      <td>1020</td>\n",
              "      <td>0</td>\n",
              "      <td>2009</td>\n",
              "      <td>0</td>\n",
              "      <td>98144</td>\n",
              "      <td>47.5944</td>\n",
              "      <td>-122.299</td>\n",
              "      <td>1020</td>\n",
              "      <td>2007</td>\n",
              "    </tr>\n",
              "    <tr>\n",
              "      <th>21611</th>\n",
              "      <td>291310100</td>\n",
              "      <td>400000.0</td>\n",
              "      <td>3</td>\n",
              "      <td>2.50</td>\n",
              "      <td>1600</td>\n",
              "      <td>2388</td>\n",
              "      <td>2.0</td>\n",
              "      <td>0</td>\n",
              "      <td>0</td>\n",
              "      <td>3</td>\n",
              "      <td>8</td>\n",
              "      <td>1600</td>\n",
              "      <td>0</td>\n",
              "      <td>2004</td>\n",
              "      <td>0</td>\n",
              "      <td>98027</td>\n",
              "      <td>47.5345</td>\n",
              "      <td>-122.069</td>\n",
              "      <td>1410</td>\n",
              "      <td>1287</td>\n",
              "    </tr>\n",
              "    <tr>\n",
              "      <th>21612</th>\n",
              "      <td>1523300157</td>\n",
              "      <td>325000.0</td>\n",
              "      <td>2</td>\n",
              "      <td>0.75</td>\n",
              "      <td>1020</td>\n",
              "      <td>1076</td>\n",
              "      <td>2.0</td>\n",
              "      <td>0</td>\n",
              "      <td>0</td>\n",
              "      <td>3</td>\n",
              "      <td>7</td>\n",
              "      <td>1020</td>\n",
              "      <td>0</td>\n",
              "      <td>2008</td>\n",
              "      <td>0</td>\n",
              "      <td>98144</td>\n",
              "      <td>47.5941</td>\n",
              "      <td>-122.299</td>\n",
              "      <td>1020</td>\n",
              "      <td>1357</td>\n",
              "    </tr>\n",
              "  </tbody>\n",
              "</table>\n",
              "</div>"
            ],
            "text/plain": [
              "               id     price  bedrooms  ...     long  sqft_living15  sqft_lot15\n",
              "21608   263000018  360000.0         3  ... -122.346           1530        1509\n",
              "21609  6600060120  400000.0         4  ... -122.362           1830        7200\n",
              "21610  1523300141  402101.0         2  ... -122.299           1020        2007\n",
              "21611   291310100  400000.0         3  ... -122.069           1410        1287\n",
              "21612  1523300157  325000.0         2  ... -122.299           1020        1357\n",
              "\n",
              "[5 rows x 20 columns]"
            ]
          },
          "metadata": {
            "tags": []
          },
          "execution_count": 3
        }
      ]
    },
    {
      "cell_type": "code",
      "metadata": {
        "colab": {
          "base_uri": "https://localhost:8080/"
        },
        "id": "EXxktfhh7iDu",
        "outputId": "0bdeb3db-a5d8-4f96-8a4e-de1b80c4089c"
      },
      "source": [
        "#let's see what kind of information we are delaling with\n",
        "dataset.info()"
      ],
      "execution_count": 4,
      "outputs": [
        {
          "output_type": "stream",
          "text": [
            "<class 'pandas.core.frame.DataFrame'>\n",
            "RangeIndex: 21613 entries, 0 to 21612\n",
            "Data columns (total 20 columns):\n",
            " #   Column         Non-Null Count  Dtype  \n",
            "---  ------         --------------  -----  \n",
            " 0   id             21613 non-null  int64  \n",
            " 1   price          21613 non-null  float64\n",
            " 2   bedrooms       21613 non-null  int64  \n",
            " 3   bathrooms      21613 non-null  float64\n",
            " 4   sqft_living    21613 non-null  int64  \n",
            " 5   sqft_lot       21613 non-null  int64  \n",
            " 6   floors         21613 non-null  float64\n",
            " 7   waterfront     21613 non-null  int64  \n",
            " 8   view           21613 non-null  int64  \n",
            " 9   condition      21613 non-null  int64  \n",
            " 10  grade          21613 non-null  int64  \n",
            " 11  sqft_above     21613 non-null  int64  \n",
            " 12  sqft_basement  21613 non-null  int64  \n",
            " 13  yr_built       21613 non-null  int64  \n",
            " 14  yr_renovated   21613 non-null  int64  \n",
            " 15  zipcode        21613 non-null  int64  \n",
            " 16  lat            21613 non-null  float64\n",
            " 17  long           21613 non-null  float64\n",
            " 18  sqft_living15  21613 non-null  int64  \n",
            " 19  sqft_lot15     21613 non-null  int64  \n",
            "dtypes: float64(5), int64(15)\n",
            "memory usage: 3.3 MB\n"
          ],
          "name": "stdout"
        }
      ]
    },
    {
      "cell_type": "code",
      "metadata": {
        "colab": {
          "base_uri": "https://localhost:8080/"
        },
        "id": "XbdXUJUvCUPC",
        "outputId": "757ca3a8-5694-4cb5-e237-70d2271fadca"
      },
      "source": [
        "dataset.shape"
      ],
      "execution_count": 5,
      "outputs": [
        {
          "output_type": "execute_result",
          "data": {
            "text/plain": [
              "(21613, 20)"
            ]
          },
          "metadata": {
            "tags": []
          },
          "execution_count": 5
        }
      ]
    },
    {
      "cell_type": "code",
      "metadata": {
        "colab": {
          "base_uri": "https://localhost:8080/"
        },
        "id": "HnsHzCn37lB6",
        "outputId": "abd0ec88-449e-4310-b986-ca7c80469b17"
      },
      "source": [
        "dataset.isnull().sum()"
      ],
      "execution_count": 6,
      "outputs": [
        {
          "output_type": "execute_result",
          "data": {
            "text/plain": [
              "id               0\n",
              "price            0\n",
              "bedrooms         0\n",
              "bathrooms        0\n",
              "sqft_living      0\n",
              "sqft_lot         0\n",
              "floors           0\n",
              "waterfront       0\n",
              "view             0\n",
              "condition        0\n",
              "grade            0\n",
              "sqft_above       0\n",
              "sqft_basement    0\n",
              "yr_built         0\n",
              "yr_renovated     0\n",
              "zipcode          0\n",
              "lat              0\n",
              "long             0\n",
              "sqft_living15    0\n",
              "sqft_lot15       0\n",
              "dtype: int64"
            ]
          },
          "metadata": {
            "tags": []
          },
          "execution_count": 6
        }
      ]
    },
    {
      "cell_type": "code",
      "metadata": {
        "colab": {
          "base_uri": "https://localhost:8080/"
        },
        "id": "g7dsFQckBm9Y",
        "outputId": "c16856f6-90fb-4a57-dd47-7529e70e514b"
      },
      "source": [
        "dataset.duplicated().sum()"
      ],
      "execution_count": 7,
      "outputs": [
        {
          "output_type": "execute_result",
          "data": {
            "text/plain": [
              "3"
            ]
          },
          "metadata": {
            "tags": []
          },
          "execution_count": 7
        }
      ]
    },
    {
      "cell_type": "code",
      "metadata": {
        "id": "VxR5d7q4EIXM"
      },
      "source": [
        "dataset.drop_duplicates(subset=None, keep='first', inplace=True)"
      ],
      "execution_count": 8,
      "outputs": []
    },
    {
      "cell_type": "code",
      "metadata": {
        "id": "pNL8QuP8P-nk"
      },
      "source": [
        "dataset.drop(['id'],axis=1,inplace=True)"
      ],
      "execution_count": 9,
      "outputs": []
    },
    {
      "cell_type": "markdown",
      "metadata": {
        "id": "GUFr99i3DaQc"
      },
      "source": [
        "##EXPLORATORY DATA ANALYSIS"
      ]
    },
    {
      "cell_type": "code",
      "metadata": {
        "id": "yt1xmQtOIQ0G"
      },
      "source": [
        "import seaborn as sb\n",
        "import matplotlib.pyplot as plt\n",
        "import seaborn as sns"
      ],
      "execution_count": 10,
      "outputs": []
    },
    {
      "cell_type": "code",
      "metadata": {
        "colab": {
          "base_uri": "https://localhost:8080/"
        },
        "id": "A-9z-JmGMmw4",
        "outputId": "989dc051-7f02-4a81-9f61-aa1ad894f442"
      },
      "source": [
        "dataset.dtypes"
      ],
      "execution_count": 11,
      "outputs": [
        {
          "output_type": "execute_result",
          "data": {
            "text/plain": [
              "price            float64\n",
              "bedrooms           int64\n",
              "bathrooms        float64\n",
              "sqft_living        int64\n",
              "sqft_lot           int64\n",
              "floors           float64\n",
              "waterfront         int64\n",
              "view               int64\n",
              "condition          int64\n",
              "grade              int64\n",
              "sqft_above         int64\n",
              "sqft_basement      int64\n",
              "yr_built           int64\n",
              "yr_renovated       int64\n",
              "zipcode            int64\n",
              "lat              float64\n",
              "long             float64\n",
              "sqft_living15      int64\n",
              "sqft_lot15         int64\n",
              "dtype: object"
            ]
          },
          "metadata": {
            "tags": []
          },
          "execution_count": 11
        }
      ]
    },
    {
      "cell_type": "code",
      "metadata": {
        "colab": {
          "base_uri": "https://localhost:8080/"
        },
        "id": "jFUXFNkdETdj",
        "outputId": "7c557368-4c04-4c22-d5f2-bef1aad9fcfa"
      },
      "source": [
        "print(f'Min: {dataset.price.min()}')\n",
        "print(f'Q1: {dataset.price.quantile(.25)}')\n",
        "print(f'Q2: {dataset.price.quantile(.50)}')\n",
        "print(f'Q3: {dataset.price.quantile(.75)}')\n",
        "print(f'Max: {dataset.price.max()}')\n",
        "print('*'*15)\n",
        "\n",
        "print(f'Mean: {dataset.price.mean()}')\n",
        "print(f'Median: {dataset.price.median()}')\n",
        "print(f'Mode: {dataset.price.mode().values[0]}')\n",
        "print('*'*15)\n",
        "\n",
        "print(f'Skew: {dataset.price.skew()}')\n",
        "print(f'Kurtosis: {dataset.price.kurt()}')"
      ],
      "execution_count": 12,
      "outputs": [
        {
          "output_type": "stream",
          "text": [
            "Min: 75000.0\n",
            "Q1: 321612.5\n",
            "Q2: 450000.0\n",
            "Q3: 645000.0\n",
            "Max: 7700000.0\n",
            "***************\n",
            "Mean: 540178.9448403517\n",
            "Median: 450000.0\n",
            "Mode: 350000.0\n",
            "***************\n",
            "Skew: 4.021467451317612\n",
            "Kurtosis: 34.517437729615054\n"
          ],
          "name": "stdout"
        }
      ]
    },
    {
      "cell_type": "code",
      "metadata": {
        "colab": {
          "base_uri": "https://localhost:8080/",
          "height": 1000
        },
        "id": "Je0y2lMaGnBp",
        "outputId": "0ba370df-66bd-4fc6-ddca-c3729d54d3e4"
      },
      "source": [
        "#boxplot to find outliers\n",
        "#Plotting the box plot for columns with outliers\n",
        "\n",
        "col_names = ['price','sqft_living','sqft_lot', 'sqft_lot15', 'sqft_living15', 'sqft_above', 'sqft_basement', 'sqft_lot15', 'sqft_living15']\n",
        "\n",
        "fig,ax = plt.subplots(len(col_names),figsize=(8,40))\n",
        "for i , col_val in enumerate(col_names):\n",
        "  sns.boxplot(y=dataset[col_val],ax=ax[i])\n",
        "  ax[i].set_title('Box plot - {}'.format(col_val), fontsize =10)\n",
        "  ax[i].set_xlabel(col_val,fontsize=10)\n",
        "plt.show()"
      ],
      "execution_count": 13,
      "outputs": [
        {
          "output_type": "display_data",
          "data": {
            "image/png": "[encoded data removed]",
            "text/plain": [
              "<Figure size 576x2880 with 9 Axes>"
            ]
          },
          "metadata": {
            "tags": [],
            "needs_background": "light"
          }
        }
      ]
    },
    {
      "cell_type": "code",
      "metadata": {
        "colab": {
          "base_uri": "https://localhost:8080/",
          "height": 663
        },
        "id": "OodvYF0TczPl",
        "outputId": "f5b8bdc1-84b7-4c9a-d373-2a622934ebbc"
      },
      "source": [
        "\n",
        "##Checking for data distribution\n",
        "dataset.hist(bins=10, figsize=(10,10))\n",
        "plt.suptitle('Distribution of Numerical variables')\n",
        "plt.show()"
      ],
      "execution_count": 14,
      "outputs": [
        {
          "output_type": "display_data",
          "data": {
            "image/png": "[encoded data removed]",
            "text/plain": [
              "<Figure size 720x720 with 20 Axes>"
            ]
          },
          "metadata": {
            "tags": [],
            "needs_background": "light"
          }
        }
      ]
    },
    {
      "cell_type": "code",
      "metadata": {
        "id": "lqm4VWK_Jq0f"
      },
      "source": [
        "correlation = dataset.corr()\n"
      ],
      "execution_count": 15,
      "outputs": []
    },
    {
      "cell_type": "code",
      "metadata": {
        "colab": {
          "base_uri": "https://localhost:8080/",
          "height": 675
        },
        "id": "NJJErpaXM9cK",
        "outputId": "c247bf48-ff26-45e7-e458-918f4ab8bc30"
      },
      "source": [
        "#correlation heatmap\n",
        "plt.figure(figsize=(10,10))\n",
        "sb.heatmap(correlation,xticklabels=correlation.columns,yticklabels=correlation.columns,linewidth=1.0,annot=False)\n",
        "plt.title('Correlation for the numerical variables',fontsize=18)\n",
        "plt.show()"
      ],
      "execution_count": 16,
      "outputs": [
        {
          "output_type": "display_data",
          "data": {
            "image/png": "[encoded data removed]",
            "text/plain": [
              "<Figure size 720x720 with 2 Axes>"
            ]
          },
          "metadata": {
            "tags": [],
            "needs_background": "light"
          }
        }
      ]
    },
    {
      "cell_type": "markdown",
      "metadata": {
        "id": "ttnyi1EoNUzS"
      },
      "source": [
        "#MULTIPLE LINEAR REGRESSION"
      ]
    },
    {
      "cell_type": "code",
      "metadata": {
        "colab": {
          "base_uri": "https://localhost:8080/",
          "height": 596
        },
        "id": "FTXNizQqRcUv",
        "outputId": "d38693f8-58da-4e3e-ecf7-667acab59dc8"
      },
      "source": [
        "#Focusing mainly on the independent variables\n",
        "Independent_corr = dataset.iloc[:,2:].corr()\n",
        "\n",
        "#Get the VIF scores\n",
        "pd.DataFrame(np.linalg.inv(Independent_corr.values), index = Independent_corr.index, columns=Independent_corr.columns)"
      ],
      "execution_count": 17,
      "outputs": [
        {
          "output_type": "execute_result",
          "data": {
            "text/html": [
              "<div>\n",
              "<style scoped>\n",
              "    .dataframe tbody tr th:only-of-type {\n",
              "        vertical-align: middle;\n",
              "    }\n",
              "\n",
              "    .dataframe tbody tr th {\n",
              "        vertical-align: top;\n",
              "    }\n",
              "\n",
              "    .dataframe thead th {\n",
              "        text-align: right;\n",
              "    }\n",
              "</style>\n",
              "<table border=\"1\" class=\"dataframe\">\n",
              "  <thead>\n",
              "    <tr style=\"text-align: right;\">\n",
              "      <th></th>\n",
              "      <th>bathrooms</th>\n",
              "      <th>sqft_living</th>\n",
              "      <th>sqft_lot</th>\n",
              "      <th>floors</th>\n",
              "      <th>waterfront</th>\n",
              "      <th>view</th>\n",
              "      <th>condition</th>\n",
              "      <th>grade</th>\n",
              "      <th>sqft_above</th>\n",
              "      <th>sqft_basement</th>\n",
              "      <th>yr_built</th>\n",
              "      <th>yr_renovated</th>\n",
              "      <th>zipcode</th>\n",
              "      <th>lat</th>\n",
              "      <th>long</th>\n",
              "      <th>sqft_living15</th>\n",
              "      <th>sqft_lot15</th>\n",
              "    </tr>\n",
              "  </thead>\n",
              "  <tbody>\n",
              "    <tr>\n",
              "      <th>bathrooms</th>\n",
              "      <td>3.222378</td>\n",
              "      <td>-3.316586e+00</td>\n",
              "      <td>-0.010257</td>\n",
              "      <td>-0.661487</td>\n",
              "      <td>0.027714</td>\n",
              "      <td>-0.010428</td>\n",
              "      <td>-0.151407</td>\n",
              "      <td>-0.182202</td>\n",
              "      <td>1.467846e+00</td>\n",
              "      <td>3.844861e-01</td>\n",
              "      <td>-0.898178</td>\n",
              "      <td>-0.247645</td>\n",
              "      <td>0.064180</td>\n",
              "      <td>-0.026881</td>\n",
              "      <td>0.058644</td>\n",
              "      <td>0.099082</td>\n",
              "      <td>0.095299</td>\n",
              "    </tr>\n",
              "    <tr>\n",
              "      <th>sqft_living</th>\n",
              "      <td>-3.315777</td>\n",
              "      <td>1.810638e+13</td>\n",
              "      <td>-0.065156</td>\n",
              "      <td>2.739302</td>\n",
              "      <td>-0.052470</td>\n",
              "      <td>0.033268</td>\n",
              "      <td>-0.193180</td>\n",
              "      <td>-1.828696</td>\n",
              "      <td>-1.632508e+13</td>\n",
              "      <td>-8.724901e+12</td>\n",
              "      <td>0.514133</td>\n",
              "      <td>0.173406</td>\n",
              "      <td>-0.323355</td>\n",
              "      <td>-0.035904</td>\n",
              "      <td>0.230768</td>\n",
              "      <td>-1.062486</td>\n",
              "      <td>-0.019342</td>\n",
              "    </tr>\n",
              "    <tr>\n",
              "      <th>sqft_lot</th>\n",
              "      <td>-0.010257</td>\n",
              "      <td>-6.503802e-02</td>\n",
              "      <td>2.101054</td>\n",
              "      <td>0.043693</td>\n",
              "      <td>0.025486</td>\n",
              "      <td>-0.062526</td>\n",
              "      <td>0.032034</td>\n",
              "      <td>-0.063029</td>\n",
              "      <td>-1.145648e-01</td>\n",
              "      <td>3.218788e-03</td>\n",
              "      <td>0.094718</td>\n",
              "      <td>0.019927</td>\n",
              "      <td>-0.004973</td>\n",
              "      <td>0.051821</td>\n",
              "      <td>-0.133730</td>\n",
              "      <td>0.163178</td>\n",
              "      <td>-1.461858</td>\n",
              "    </tr>\n",
              "    <tr>\n",
              "      <th>floors</th>\n",
              "      <td>-0.661487</td>\n",
              "      <td>2.738220e+00</td>\n",
              "      <td>0.043693</td>\n",
              "      <td>2.010470</td>\n",
              "      <td>-0.007427</td>\n",
              "      <td>-0.043519</td>\n",
              "      <td>0.091359</td>\n",
              "      <td>-0.240088</td>\n",
              "      <td>-2.946162e+00</td>\n",
              "      <td>-6.895383e-01</td>\n",
              "      <td>-0.485383</td>\n",
              "      <td>-0.081368</td>\n",
              "      <td>-0.173235</td>\n",
              "      <td>-0.129055</td>\n",
              "      <td>0.163751</td>\n",
              "      <td>0.271870</td>\n",
              "      <td>0.070080</td>\n",
              "    </tr>\n",
              "    <tr>\n",
              "      <th>waterfront</th>\n",
              "      <td>0.027714</td>\n",
              "      <td>-5.209225e-02</td>\n",
              "      <td>0.025486</td>\n",
              "      <td>-0.007427</td>\n",
              "      <td>1.201561</td>\n",
              "      <td>-0.497224</td>\n",
              "      <td>-0.010887</td>\n",
              "      <td>0.037553</td>\n",
              "      <td>-3.157182e-02</td>\n",
              "      <td>3.995405e-02</td>\n",
              "      <td>-0.026238</td>\n",
              "      <td>-0.067600</td>\n",
              "      <td>0.019501</td>\n",
              "      <td>0.007874</td>\n",
              "      <td>0.026571</td>\n",
              "      <td>0.053431</td>\n",
              "      <td>-0.021741</td>\n",
              "    </tr>\n",
              "    <tr>\n",
              "      <th>view</th>\n",
              "      <td>-0.010428</td>\n",
              "      <td>3.264861e-02</td>\n",
              "      <td>-0.062526</td>\n",
              "      <td>-0.043519</td>\n",
              "      <td>-0.497224</td>\n",
              "      <td>1.427395</td>\n",
              "      <td>-0.017619</td>\n",
              "      <td>-0.206529</td>\n",
              "      <td>7.047453e-02</td>\n",
              "      <td>-2.386704e-01</td>\n",
              "      <td>0.142369</td>\n",
              "      <td>-0.042291</td>\n",
              "      <td>-0.146192</td>\n",
              "      <td>0.115112</td>\n",
              "      <td>0.070718</td>\n",
              "      <td>-0.327139</td>\n",
              "      <td>-0.013385</td>\n",
              "    </tr>\n",
              "    <tr>\n",
              "      <th>condition</th>\n",
              "      <td>-0.151407</td>\n",
              "      <td>-1.939568e-01</td>\n",
              "      <td>0.032034</td>\n",
              "      <td>0.091359</td>\n",
              "      <td>-0.010887</td>\n",
              "      <td>-0.017619</td>\n",
              "      <td>1.247948</td>\n",
              "      <td>-0.045101</td>\n",
              "      <td>2.035966e-01</td>\n",
              "      <td>-1.895403e-02</td>\n",
              "      <td>0.565632</td>\n",
              "      <td>0.208317</td>\n",
              "      <td>0.163736</td>\n",
              "      <td>0.065285</td>\n",
              "      <td>-0.006338</td>\n",
              "      <td>0.076683</td>\n",
              "      <td>-0.025625</td>\n",
              "    </tr>\n",
              "    <tr>\n",
              "      <th>grade</th>\n",
              "      <td>-0.182202</td>\n",
              "      <td>-1.822793e+00</td>\n",
              "      <td>-0.063029</td>\n",
              "      <td>-0.240088</td>\n",
              "      <td>0.037553</td>\n",
              "      <td>-0.206529</td>\n",
              "      <td>-0.045101</td>\n",
              "      <td>3.359957</td>\n",
              "      <td>1.962429e-01</td>\n",
              "      <td>4.821032e-01</td>\n",
              "      <td>-0.663897</td>\n",
              "      <td>-0.079981</td>\n",
              "      <td>0.068260</td>\n",
              "      <td>-0.340305</td>\n",
              "      <td>0.390454</td>\n",
              "      <td>-0.916297</td>\n",
              "      <td>0.055994</td>\n",
              "    </tr>\n",
              "    <tr>\n",
              "      <th>sqft_above</th>\n",
              "      <td>1.472069</td>\n",
              "      <td>-1.632508e+13</td>\n",
              "      <td>-0.114450</td>\n",
              "      <td>-2.947801</td>\n",
              "      <td>-0.031285</td>\n",
              "      <td>0.069963</td>\n",
              "      <td>0.202861</td>\n",
              "      <td>0.201710</td>\n",
              "      <td>1.471903e+13</td>\n",
              "      <td>7.866550e+12</td>\n",
              "      <td>0.127591</td>\n",
              "      <td>-0.133218</td>\n",
              "      <td>0.258373</td>\n",
              "      <td>0.240324</td>\n",
              "      <td>-0.540504</td>\n",
              "      <td>-0.564309</td>\n",
              "      <td>-0.113029</td>\n",
              "    </tr>\n",
              "    <tr>\n",
              "      <th>sqft_basement</th>\n",
              "      <td>0.383080</td>\n",
              "      <td>-8.724901e+12</td>\n",
              "      <td>0.003275</td>\n",
              "      <td>-0.690166</td>\n",
              "      <td>0.040111</td>\n",
              "      <td>-0.238893</td>\n",
              "      <td>-0.019267</td>\n",
              "      <td>0.484838</td>\n",
              "      <td>7.866550e+12</td>\n",
              "      <td>4.204258e+12</td>\n",
              "      <td>0.036936</td>\n",
              "      <td>-0.084193</td>\n",
              "      <td>0.098041</td>\n",
              "      <td>-0.048980</td>\n",
              "      <td>0.041696</td>\n",
              "      <td>0.048287</td>\n",
              "      <td>-0.025204</td>\n",
              "    </tr>\n",
              "    <tr>\n",
              "      <th>yr_built</th>\n",
              "      <td>-0.898178</td>\n",
              "      <td>5.122740e-01</td>\n",
              "      <td>0.094718</td>\n",
              "      <td>-0.485383</td>\n",
              "      <td>-0.026238</td>\n",
              "      <td>0.142369</td>\n",
              "      <td>0.565632</td>\n",
              "      <td>-0.663897</td>\n",
              "      <td>1.292670e-01</td>\n",
              "      <td>3.783168e-02</td>\n",
              "      <td>2.419271</td>\n",
              "      <td>0.529996</td>\n",
              "      <td>0.250273</td>\n",
              "      <td>0.306283</td>\n",
              "      <td>-0.506925</td>\n",
              "      <td>0.075637</td>\n",
              "      <td>-0.040700</td>\n",
              "    </tr>\n",
              "    <tr>\n",
              "      <th>yr_renovated</th>\n",
              "      <td>-0.247645</td>\n",
              "      <td>1.728764e-01</td>\n",
              "      <td>0.019927</td>\n",
              "      <td>-0.081368</td>\n",
              "      <td>-0.067600</td>\n",
              "      <td>-0.042291</td>\n",
              "      <td>0.208317</td>\n",
              "      <td>-0.079981</td>\n",
              "      <td>-1.327400e-01</td>\n",
              "      <td>-8.393797e-02</td>\n",
              "      <td>0.529996</td>\n",
              "      <td>1.149229</td>\n",
              "      <td>0.034584</td>\n",
              "      <td>0.044737</td>\n",
              "      <td>-0.054589</td>\n",
              "      <td>0.098565</td>\n",
              "      <td>-0.024563</td>\n",
              "    </tr>\n",
              "    <tr>\n",
              "      <th>zipcode</th>\n",
              "      <td>0.064180</td>\n",
              "      <td>-3.232957e-01</td>\n",
              "      <td>-0.004973</td>\n",
              "      <td>-0.173235</td>\n",
              "      <td>0.019501</td>\n",
              "      <td>-0.146192</td>\n",
              "      <td>0.163736</td>\n",
              "      <td>0.068260</td>\n",
              "      <td>2.583194e-01</td>\n",
              "      <td>9.801256e-02</td>\n",
              "      <td>0.250273</td>\n",
              "      <td>0.034584</td>\n",
              "      <td>1.658251</td>\n",
              "      <td>-0.310576</td>\n",
              "      <td>0.733060</td>\n",
              "      <td>0.209013</td>\n",
              "      <td>-0.019633</td>\n",
              "    </tr>\n",
              "    <tr>\n",
              "      <th>lat</th>\n",
              "      <td>-0.026881</td>\n",
              "      <td>-3.616081e-02</td>\n",
              "      <td>0.051821</td>\n",
              "      <td>-0.129055</td>\n",
              "      <td>0.007874</td>\n",
              "      <td>0.115112</td>\n",
              "      <td>0.065285</td>\n",
              "      <td>-0.340305</td>\n",
              "      <td>2.405548e-01</td>\n",
              "      <td>-4.885670e-02</td>\n",
              "      <td>0.306283</td>\n",
              "      <td>0.044737</td>\n",
              "      <td>-0.310576</td>\n",
              "      <td>1.179081</td>\n",
              "      <td>-0.101357</td>\n",
              "      <td>-0.095570</td>\n",
              "      <td>0.034028</td>\n",
              "    </tr>\n",
              "    <tr>\n",
              "      <th>long</th>\n",
              "      <td>0.058644</td>\n",
              "      <td>2.315780e-01</td>\n",
              "      <td>-0.133730</td>\n",
              "      <td>0.163751</td>\n",
              "      <td>0.026571</td>\n",
              "      <td>0.070718</td>\n",
              "      <td>-0.006338</td>\n",
              "      <td>0.390454</td>\n",
              "      <td>-5.412345e-01</td>\n",
              "      <td>4.130624e-02</td>\n",
              "      <td>-0.506925</td>\n",
              "      <td>-0.054589</td>\n",
              "      <td>0.733060</td>\n",
              "      <td>-0.101357</td>\n",
              "      <td>1.825477</td>\n",
              "      <td>-0.354762</td>\n",
              "      <td>-0.161783</td>\n",
              "    </tr>\n",
              "    <tr>\n",
              "      <th>sqft_living15</th>\n",
              "      <td>0.099082</td>\n",
              "      <td>-1.067072e+00</td>\n",
              "      <td>0.163178</td>\n",
              "      <td>0.271870</td>\n",
              "      <td>0.053431</td>\n",
              "      <td>-0.327139</td>\n",
              "      <td>0.076683</td>\n",
              "      <td>-0.916297</td>\n",
              "      <td>-5.601739e-01</td>\n",
              "      <td>5.049667e-02</td>\n",
              "      <td>0.075637</td>\n",
              "      <td>0.098565</td>\n",
              "      <td>0.209013</td>\n",
              "      <td>-0.095570</td>\n",
              "      <td>-0.354762</td>\n",
              "      <td>2.979260</td>\n",
              "      <td>-0.126900</td>\n",
              "    </tr>\n",
              "    <tr>\n",
              "      <th>sqft_lot15</th>\n",
              "      <td>0.095299</td>\n",
              "      <td>-1.952519e-02</td>\n",
              "      <td>-1.461858</td>\n",
              "      <td>0.070080</td>\n",
              "      <td>-0.021741</td>\n",
              "      <td>-0.013385</td>\n",
              "      <td>-0.025625</td>\n",
              "      <td>0.055994</td>\n",
              "      <td>-1.128642e-01</td>\n",
              "      <td>-2.511596e-02</td>\n",
              "      <td>-0.040700</td>\n",
              "      <td>-0.024563</td>\n",
              "      <td>-0.019633</td>\n",
              "      <td>0.034028</td>\n",
              "      <td>-0.161783</td>\n",
              "      <td>-0.126900</td>\n",
              "      <td>2.131243</td>\n",
              "    </tr>\n",
              "  </tbody>\n",
              "</table>\n",
              "</div>"
            ],
            "text/plain": [
              "               bathrooms   sqft_living  ...  sqft_living15  sqft_lot15\n",
              "bathrooms       3.222378 -3.316586e+00  ...       0.099082    0.095299\n",
              "sqft_living    -3.315777  1.810638e+13  ...      -1.062486   -0.019342\n",
              "sqft_lot       -0.010257 -6.503802e-02  ...       0.163178   -1.461858\n",
              "floors         -0.661487  2.738220e+00  ...       0.271870    0.070080\n",
              "waterfront      0.027714 -5.209225e-02  ...       0.053431   -0.021741\n",
              "view           -0.010428  3.264861e-02  ...      -0.327139   -0.013385\n",
              "condition      -0.151407 -1.939568e-01  ...       0.076683   -0.025625\n",
              "grade          -0.182202 -1.822793e+00  ...      -0.916297    0.055994\n",
              "sqft_above      1.472069 -1.632508e+13  ...      -0.564309   -0.113029\n",
              "sqft_basement   0.383080 -8.724901e+12  ...       0.048287   -0.025204\n",
              "yr_built       -0.898178  5.122740e-01  ...       0.075637   -0.040700\n",
              "yr_renovated   -0.247645  1.728764e-01  ...       0.098565   -0.024563\n",
              "zipcode         0.064180 -3.232957e-01  ...       0.209013   -0.019633\n",
              "lat            -0.026881 -3.616081e-02  ...      -0.095570    0.034028\n",
              "long            0.058644  2.315780e-01  ...      -0.354762   -0.161783\n",
              "sqft_living15   0.099082 -1.067072e+00  ...       2.979260   -0.126900\n",
              "sqft_lot15      0.095299 -1.952519e-02  ...      -0.126900    2.131243\n",
              "\n",
              "[17 rows x 17 columns]"
            ]
          },
          "metadata": {
            "tags": []
          },
          "execution_count": 17
        }
      ]
    },
    {
      "cell_type": "markdown",
      "metadata": {
        "id": "AApIDmTTbLzp"
      },
      "source": [
        "###residual plots and heteroscedasticity "
      ]
    },
    {
      "cell_type": "code",
      "metadata": {
        "id": "ysfxpboTTGnZ",
        "colab": {
          "base_uri": "https://localhost:8080/"
        },
        "outputId": "cba9f434-70a0-4cfd-b7ee-87c5565b3201"
      },
      "source": [
        "from sklearn import metrics\n",
        "from sklearn.model_selection import train_test_split\n",
        "from sklearn.linear_model import LinearRegression\n",
        "\n",
        "X = dataset[['bedrooms','bathrooms','sqft_living','sqft_lot','floors','waterfront','view','condition',\n",
        "             'grade','sqft_above','sqft_basement','yr_built','yr_renovated','sqft_living15','sqft_lot15']]\n",
        "y = dataset['price']\n",
        "X_train, X_test, y_train, y_test = train_test_split(X, y, test_size=0.2, random_state=0)\n",
        "\n",
        "regressor = LinearRegression()\n",
        "regressor.fit(X_train, y_train)\n",
        "\n",
        "# This is our prediction for admission based on our model\n",
        "y_predict = regressor.predict(X_test)\n",
        "\n",
        "# We now create the residual by substracting the test value from the predicted \n",
        "# value for each row in our dataset\n",
        "\n",
        "residuals = np.subtract(y_predict, y_test)\n",
        "\n",
        "# Let's describe our residual:\n",
        "pd.DataFrame(residuals).describe()\n",
        "\n",
        "residuals.mean()"
      ],
      "execution_count": 18,
      "outputs": [
        {
          "output_type": "execute_result",
          "data": {
            "text/plain": [
              "-4007.4202122431566"
            ]
          },
          "metadata": {
            "tags": []
          },
          "execution_count": 18
        }
      ]
    },
    {
      "cell_type": "code",
      "metadata": {
        "colab": {
          "base_uri": "https://localhost:8080/",
          "height": 290
        },
        "id": "W__3H-rIbYaA",
        "outputId": "0d1c8b1e-30d0-43f0-9283-a82e78e78082"
      },
      "source": [
        "import matplotlib.pyplot as plt\n",
        "\n",
        "plt.scatter(y_predict, residuals, color='black')\n",
        "plt.ylabel('residual')\n",
        "plt.xlabel('fitted values')\n",
        "plt.axhline(y= residuals.mean(), color='red', linewidth=1)\n",
        "plt.show()"
      ],
      "execution_count": 19,
      "outputs": [
        {
          "output_type": "display_data",
          "data": {
            "image/png": "[encoded data removed]",
            "text/plain": [
              "<Figure size 432x288 with 1 Axes>"
            ]
          },
          "metadata": {
            "tags": [],
            "needs_background": "light"
          }
        }
      ]
    },
    {
      "cell_type": "code",
      "metadata": {
        "colab": {
          "base_uri": "https://localhost:8080/"
        },
        "id": "qoIbKgm_bhY6",
        "outputId": "6c3c101c-9044-44d7-8d55-623c0ca10674"
      },
      "source": [
        "import scipy as sp\n",
        "\n",
        "test_result, p_value = sp.stats.bartlett(y_predict, residuals)\n",
        "\n",
        "# To interpret the results we must also compute a critical value of the chi squared distribution\n",
        "degree_of_freedom = len(y_predict)-1\n",
        "probability = 1 - p_value\n",
        "\n",
        "critical_value = sp.stats.chi2.ppf(probability, degree_of_freedom)\n",
        "print(critical_value)\n",
        "\n",
        "# If the test_result is greater than the critical value, then we reject our null\n",
        "# hypothesis. This would mean that there are patterns to the variance of the data\n",
        "\n",
        "# Otherwise, we can identify no patterns, and we accept the null hypothesis that \n",
        "# the variance is homogeneous across our data\n",
        "\n",
        "if (test_result > critical_value):\n",
        "  print('the variances are unequal, and the model should be reassessed')\n",
        "else:\n",
        "  print('the variances are homogeneous!')"
      ],
      "execution_count": 20,
      "outputs": [
        {
          "output_type": "stream",
          "text": [
            "inf\n",
            "the variances are homogeneous!\n"
          ],
          "name": "stdout"
        }
      ]
    },
    {
      "cell_type": "markdown",
      "metadata": {
        "id": "XbDe1j-rb4Fz"
      },
      "source": [
        "there is no heteroscadascticity.\n",
        "\n",
        "the variances are homogenous"
      ]
    },
    {
      "cell_type": "code",
      "metadata": {
        "colab": {
          "base_uri": "https://localhost:8080/"
        },
        "id": "WQZD47xWmruH",
        "outputId": "22315710-3a01-45b6-c1dc-344b8e99bf4f"
      },
      "source": [
        "# This is our prediction for price based on our model\n",
        "y_predict = regressor.predict(X_test)\n",
        "\n",
        "# The R2 score and RMSE for the linear model is \n",
        "\n",
        "print('Root Mean Squared Error:', np.sqrt(metrics.mean_squared_error(y_test, y_predict)))\n",
        "\n",
        "from sklearn.metrics import r2_score\n",
        "\n",
        "linear_R2 = a = r2_score(y_test, y_predict)\n",
        "print(\"The R2 score for the linear model is:\", linear_R2)"
      ],
      "execution_count": 21,
      "outputs": [
        {
          "output_type": "stream",
          "text": [
            "Root Mean Squared Error: 210453.9864782802\n",
            "The R2 score for the linear model is: 0.662982673657134\n"
          ],
          "name": "stdout"
        }
      ]
    },
    {
      "cell_type": "markdown",
      "metadata": {
        "id": "yjjsmIiyjifk"
      },
      "source": [
        "Multiple Linear Regression model has an RMSE of 210453.9864782801 and the accuracy output at 0.662982673657134 "
      ]
    },
    {
      "cell_type": "markdown",
      "metadata": {
        "id": "A3NEL52fcERM"
      },
      "source": [
        "#QUANTILE REGRESSION"
      ]
    },
    {
      "cell_type": "code",
      "metadata": {
        "id": "WZzzyl3Jl-xl"
      },
      "source": [
        "\n",
        "# Calling the training and test sets\n",
        "\n",
        "X = dataset[['bedrooms', 'bathrooms', 'sqft_living', 'sqft_lot', 'floors',\n",
        "       'condition', 'grade', 'sqft_basement', 'yr_built',\n",
        "        'sqft_living15', 'sqft_lot15']].values\n",
        "y = dataset['price'].values\n",
        "X_train, X_test, y_train, y_test = train_test_split(X, y, test_size=0.25, random_state=0)"
      ],
      "execution_count": 22,
      "outputs": []
    },
    {
      "cell_type": "code",
      "metadata": {
        "colab": {
          "base_uri": "https://localhost:8080/"
        },
        "id": "sjMrQY-EmJd0",
        "outputId": "7c07551a-a94b-4479-fdbe-fc116a73249a"
      },
      "source": [
        "# Finding the regression coefficients for the conditioned median, 0.5 quantile\n",
        "\n",
        "import statsmodels.formula.api as smf\n",
        "mod = smf.quantreg('y ~ X', dataset)\n",
        "res = mod.fit(q=.5)\n",
        "res\n",
        "# Then print out the summary of our model\n",
        "#\n",
        "print(res.summary())"
      ],
      "execution_count": 23,
      "outputs": [
        {
          "output_type": "stream",
          "text": [
            "/usr/local/lib/python3.7/dist-packages/statsmodels/tools/_testing.py:19: FutureWarning: pandas.util.testing is deprecated. Use the functions in the public API at pandas.testing instead.\n",
            "  import pandas.util.testing as tm\n"
          ],
          "name": "stderr"
        },
        {
          "output_type": "stream",
          "text": [
            "                         QuantReg Regression Results                          \n",
            "==============================================================================\n",
            "Dep. Variable:                      y   Pseudo R-squared:               0.3855\n",
            "Model:                       QuantReg   Bandwidth:                   2.410e+04\n",
            "Method:                 Least Squares   Sparsity:                    3.375e+05\n",
            "Date:                Sat, 29 May 2021   No. Observations:                21610\n",
            "Time:                        19:36:55   Df Residuals:                    21598\n",
            "                                        Df Model:                           11\n",
            "==============================================================================\n",
            "                 coef    std err          t      P>|t|      [0.025      0.975]\n",
            "------------------------------------------------------------------------------\n",
            "Intercept   5.132e+06   1.01e+05     50.650      0.000    4.93e+06    5.33e+06\n",
            "X[0]       -2.955e+04   1571.686    -18.804      0.000   -3.26e+04   -2.65e+04\n",
            "X[1]          2.6e+04   2702.458      9.622      0.000    2.07e+04    3.13e+04\n",
            "X[2]          87.7883      3.043     28.852      0.000      81.824      93.752\n",
            "X[3]           0.1479      0.040      3.696      0.000       0.069       0.226\n",
            "X[4]        5.673e+04   2949.532     19.232      0.000    5.09e+04    6.25e+04\n",
            "X[5]        2.267e+04   1922.871     11.788      0.000    1.89e+04    2.64e+04\n",
            "X[6]        1.101e+05   1749.044     62.925      0.000    1.07e+05    1.13e+05\n",
            "X[7]          49.5811      3.486     14.222      0.000      42.748      56.414\n",
            "X[8]       -2983.0952     52.004    -57.363      0.000   -3085.026   -2881.164\n",
            "X[9]          52.3758      2.784     18.815      0.000      46.919      57.832\n",
            "X[10]         -0.3067      0.061     -5.013      0.000      -0.427      -0.187\n",
            "==============================================================================\n",
            "\n",
            "The condition number is large, 4.47e+06. This might indicate that there are\n",
            "strong multicollinearity or other numerical problems.\n"
          ],
          "name": "stdout"
        },
        {
          "output_type": "stream",
          "text": [
            "/usr/local/lib/python3.7/dist-packages/statsmodels/regression/quantile_regression.py:192: IterationLimitWarning: Maximum number of iterations (1000) reached.\n",
            "  \") reached.\", IterationLimitWarning)\n"
          ],
          "name": "stderr"
        }
      ]
    },
    {
      "cell_type": "code",
      "metadata": {
        "colab": {
          "base_uri": "https://localhost:8080/"
        },
        "id": "WhErnJ6TmXe1",
        "outputId": "34028cb3-6ba6-4ac3-9821-76a67c7c8f34"
      },
      "source": [
        "# This is our prediction for price based on our model\n",
        "y_predict = res.predict()\n",
        "\n",
        "print('Root Mean Squared Error:', np.sqrt(metrics.mean_squared_error(y, y_predict)))\n",
        "quantile_R2 = b = r2_score(y, y_predict)\n",
        "print(\"The R2 score for the elastic model is:\", quantile_R2)"
      ],
      "execution_count": 24,
      "outputs": [
        {
          "output_type": "stream",
          "text": [
            "Root Mean Squared Error: 238378.19047341653\n",
            "The R2 score for the elastic model is: 0.5789785891927457\n"
          ],
          "name": "stdout"
        }
      ]
    },
    {
      "cell_type": "markdown",
      "metadata": {
        "id": "N0lg62lKjR0R"
      },
      "source": [
        "The Quantile Regression model has average accuracy of 0.5789785891927457 and a low RMSE of 238378.19047341653"
      ]
    },
    {
      "cell_type": "markdown",
      "metadata": {
        "id": "TldOxwWxlU-e"
      },
      "source": [
        "#RIDGE REGRESSION"
      ]
    },
    {
      "cell_type": "code",
      "metadata": {
        "colab": {
          "base_uri": "https://localhost:8080/"
        },
        "id": "Wu-18ilKFaDI",
        "outputId": "79dcdc4d-d521-43d8-f4b8-04002e4c36db"
      },
      "source": [
        "# importing necessary libraries\n",
        "from pydataset import data \n",
        "from sklearn.model_selection import GridSearchCV\n",
        "from sklearn.linear_model import Ridge\n",
        "from sklearn.linear_model import LinearRegression\n",
        "from sklearn.metrics import mean_squared_error\n",
        "\n",
        "\n",
        "# Setting up our X and y datasets\n",
        "#\n",
        "X = dataset[['bedrooms', 'bathrooms', 'sqft_living', 'sqft_lot', 'floors',\n",
        "       'condition', 'grade', 'sqft_basement', 'yr_built',\n",
        "        'sqft_living15', 'sqft_lot15']].values\n",
        "y = dataset['price'].values\n",
        "\n",
        "# Creating our baseline regression model\n",
        "# This is a model that has no regularization to it\n",
        "# \n",
        "regression = LinearRegression()\n",
        "regression.fit(X,y)\n",
        "first_model = (mean_squared_error(y_true=y,y_pred=regression.predict(X)))\n",
        "print(first_model)"
      ],
      "execution_count": 25,
      "outputs": [
        {
          "output_type": "stream",
          "text": [
            "51294759398.65656\n"
          ],
          "name": "stdout"
        }
      ]
    },
    {
      "cell_type": "code",
      "metadata": {
        "id": "vE4DJt-kGqqM"
      },
      "source": [
        "# creating ridge model\n",
        "#setting up the grid to be used\n",
        "\n",
        "ridge = Ridge(normalize=True)\n",
        "search = GridSearchCV(estimator=ridge,param_grid={'alpha':np.logspace(-5,2,8)},scoring='neg_mean_squared_error',n_jobs=1,refit=True,cv=10)"
      ],
      "execution_count": 26,
      "outputs": []
    },
    {
      "cell_type": "code",
      "metadata": {
        "colab": {
          "base_uri": "https://localhost:8080/"
        },
        "id": "EzhXkB-qGxJz",
        "outputId": "86198ea8-eb05-4172-c38a-1c57ed61b943"
      },
      "source": [
        "# We now use the .fit function to run the model and then use the .best_params_ and .best_scores_ function to determine the models strength. \n",
        "# \n",
        "search.fit(X,y)\n",
        "search.best_params_\n",
        "{'alpha': 0.01}\n",
        "abs(search.best_score_) "
      ],
      "execution_count": 27,
      "outputs": [
        {
          "output_type": "execute_result",
          "data": {
            "text/plain": [
              "51901723393.93428"
            ]
          },
          "metadata": {
            "tags": []
          },
          "execution_count": 27
        }
      ]
    },
    {
      "cell_type": "code",
      "metadata": {
        "colab": {
          "base_uri": "https://localhost:8080/"
        },
        "id": "tJYnQJKIG4yt",
        "outputId": "e55f9032-873d-44e2-b5dc-e617530375b6"
      },
      "source": [
        "# We can confirm this by fitting our model with the ridge information and finding the mean squared error below\n",
        "#\n",
        "ridge = Ridge(normalize=True,alpha=0.01)\n",
        "ridge.fit(X,y)\n",
        "second_model = (mean_squared_error(y_true=y,y_pred=ridge.predict(X)))\n",
        "print(second_model)\n",
        "\n",
        "#there isn't much difference between model 1 and model 2"
      ],
      "execution_count": 28,
      "outputs": [
        {
          "output_type": "stream",
          "text": [
            "51307452083.274\n"
          ],
          "name": "stdout"
        }
      ]
    },
    {
      "cell_type": "code",
      "metadata": {
        "colab": {
          "base_uri": "https://localhost:8080/"
        },
        "id": "DHXREB-bZUcX",
        "outputId": "27585480-00ea-435d-93d3-0412eb90d98d"
      },
      "source": [
        "# We can confirm this by fitting our model with the ridge information and finding the mean squared error below\n",
        "#\n",
        "ridge = Ridge(normalize=True,alpha=0.001)\n",
        "ridge.fit(X_train,y_train)\n",
        "y_pred = ridge.predict(X_test)\n",
        "\n",
        "\n",
        "print('Ridge model Root Mean Squared Error:', np.sqrt(metrics.mean_squared_error(y_test, y_pred)))\n",
        "\n",
        "# Making predictions & checking accuracy using R2 score\n",
        "c = r2_score(y_test, y_pred)\n",
        "print(\"The R2 score for the ridge model is:\", c)"
      ],
      "execution_count": 29,
      "outputs": [
        {
          "output_type": "stream",
          "text": [
            "Ridge model Root Mean Squared Error: 224491.33482331375\n",
            "The R2 score for the ridge model is: 0.6321983648653903\n"
          ],
          "name": "stdout"
        }
      ]
    },
    {
      "cell_type": "markdown",
      "metadata": {
        "id": "88n19dMmiesy"
      },
      "source": [
        "The Ridge Regression model has an accuracy of 63% and an equally high RMSE of  225852.05000334975"
      ]
    },
    {
      "cell_type": "markdown",
      "metadata": {
        "id": "YdOej3wGHLgK"
      },
      "source": [
        "#LASSO REGRESSION"
      ]
    },
    {
      "cell_type": "code",
      "metadata": {
        "id": "tK_V5IJwHrJk"
      },
      "source": [
        "# Before building the models, let's first scale data. \n",
        "# Lasso put constraints on the size of the coefficients associated to each variable. \n",
        "# But, this value depends on the magnitude of each variable and it is therefore \n",
        "# necessary to center and reduce, or standardize, the variables.\n",
        "# \n",
        "\n",
        "# Importing StandardScaler\n",
        "#\n",
        "from sklearn.preprocessing import StandardScaler\n",
        "\n",
        "# Creating features and target matrixes\n",
        "#\n",
        "X = dataset[['bedrooms', 'bathrooms', 'sqft_living', 'sqft_lot', 'floors',\n",
        "       'condition', 'grade', 'sqft_basement', 'yr_built',\n",
        "        'sqft_living15', 'sqft_lot15']].values\n",
        "y = dataset['price'].values\n",
        "\n",
        "# Scaling data \n",
        "#\n",
        "scaler = StandardScaler()\n",
        "scaler.fit(X)\n",
        "X = scaler.transform(X)"
      ],
      "execution_count": 30,
      "outputs": []
    },
    {
      "cell_type": "code",
      "metadata": {
        "colab": {
          "base_uri": "https://localhost:8080/"
        },
        "id": "brroxR_WH6Rj",
        "outputId": "46cfeb86-be93-4818-8260-eb80dfb72846"
      },
      "source": [
        "# We can basically build the Lasso model. \n",
        "# But for now, we will train it on the whole dataset and look at an R-squared score and on the model coefficients. \n",
        "# Note, that we are not setting the alpha, it is defined as 1.\n",
        "# \n",
        "\n",
        "# Importing linear models\n",
        "# \n",
        "from sklearn import linear_model\n",
        "from sklearn.metrics import mean_squared_error\n",
        "\n",
        "# Creating lasso object\n",
        "# \n",
        "lasso = linear_model.Lasso() \n",
        "\n",
        "# Fitting the models\n",
        "# \n",
        "lasso.fit(X, y) \n",
        "\n",
        "# Print scores, MSE, and coefficients\n",
        "# \n",
        "print(\"lasso score:\", lasso.score(X, y)) \n",
        "print(\"lasso MSE:\", mean_squared_error(y, lasso.predict(X))) \n",
        "print(\"lasso coef:\", lasso.coef_) "
      ],
      "execution_count": 31,
      "outputs": [
        {
          "output_type": "stream",
          "text": [
            "lasso score: 0.6199470201847976\n",
            "lasso MSE: 51294759417.727005\n",
            "lasso coef: [ -45931.30796891   38579.57224575  153001.41914757     442.67660243\n",
            "   18116.30628919   12372.12499395  146615.36055383   12706.47413173\n",
            " -116666.740006     24873.7416591   -13820.7831956 ]\n"
          ],
          "name": "stdout"
        }
      ]
    },
    {
      "cell_type": "code",
      "metadata": {
        "colab": {
          "base_uri": "https://localhost:8080/"
        },
        "id": "2rT_JWATIB6g",
        "outputId": "694a0437-edba-4329-9534-f50d0cb209b9"
      },
      "source": [
        "# Splitting the data into training and test sets, building Lasso, \n",
        "# and choosing the regularization parameter with the help of GridSearch. \n",
        "# For that, we have to define the set of parameters for GridSearch. \n",
        "# In this case, a model with the highest R-squared score will give us the best parameters.\n",
        "# \n",
        "\n",
        "# Making necessary imports, split data into training and test sets, and choose a set of parameters \n",
        "from sklearn.model_selection import train_test_split\n",
        "from sklearn.model_selection import GridSearchCV\n",
        "import warnings\n",
        "warnings.filterwarnings(\"ignore\")\n",
        "\n",
        "X_train, X_test, y_train, y_test = train_test_split(X, y, test_size=0.25, random_state=101)\n",
        "parameters = {'alpha': np.concatenate((np.arange(0.1,2,0.1), np.arange(2, 5, 0.5), np.arange(5, 25, 1)))}\n",
        "\n",
        "linear = linear_model.LinearRegression()\n",
        "lasso = linear_model.Lasso() \n",
        "gridlasso = GridSearchCV(lasso, parameters, scoring ='r2') \n",
        "\n",
        "# Fitting models and print the best parameters, R-squared scores, MSE, and coefficients\n",
        "gridlasso.fit(X_train, y_train) \n",
        "linear.fit(X_train, y_train) \n",
        "print(\"lasso best parameters:\", gridlasso.best_params_) \n",
        "print(\"lasso score:\", gridlasso.score(X_test, y_test))\n",
        "print(\"linear score:\", linear.score(X_test, y_test)) \n",
        "print(\"lasso MSE:\", mean_squared_error(y_test, gridlasso.predict(X_test)))\n",
        "print(\"linear MSE:\", mean_squared_error(y_test, linear.predict(X_test))) \n",
        "print(\"lasso best estimator coef:\", gridlasso.best_estimator_.coef_)\n",
        "print(\"linear coef:\", linear.coef_)"
      ],
      "execution_count": 32,
      "outputs": [
        {
          "output_type": "stream",
          "text": [
            "lasso best parameters: {'alpha': 24.0}\n",
            "lasso score: 0.6249028048855891\n",
            "linear score: 0.6249001726136023\n",
            "lasso MSE: 51010221374.82693\n",
            "linear MSE: 51010579342.78435\n",
            "lasso best estimator coef: [ -46659.04754795   35328.58447132  154577.33087573    1301.61068772\n",
            "   19787.35679074   11232.06202454  147543.35793062   16135.53304491\n",
            " -115472.51474423   22582.81198029  -13805.8636645 ]\n",
            "linear coef: [ -46720.05302054   35359.32807513  154573.91011023    1384.40474174\n",
            "   19832.59327491   11255.28173607  147548.01810816   16164.217894\n",
            " -115522.90446014   22616.68709079  -13892.65819165]\n"
          ],
          "name": "stdout"
        }
      ]
    },
    {
      "cell_type": "code",
      "metadata": {
        "colab": {
          "base_uri": "https://localhost:8080/"
        },
        "id": "xXzbew77lRLj",
        "outputId": "f91d7136-73df-4213-fc53-daa193cc5e62"
      },
      "source": [
        "import math\n",
        "MSE = mean_squared_error(y_test, gridlasso.predict(X_test))\n",
        "\n",
        "RMSE = math.sqrt(MSE)\n",
        "print(\"Root Mean Square Error:\\n\")\n",
        "print(RMSE)"
      ],
      "execution_count": 46,
      "outputs": [
        {
          "output_type": "stream",
          "text": [
            "Root Mean Square Error:\n",
            "\n",
            "225854.42518318503\n"
          ],
          "name": "stdout"
        }
      ]
    },
    {
      "cell_type": "code",
      "metadata": {
        "id": "Ps4blDdnqY-_"
      },
      "source": [
        "d = r2_score(y_test,y_pred)"
      ],
      "execution_count": 47,
      "outputs": []
    },
    {
      "cell_type": "code",
      "metadata": {
        "colab": {
          "base_uri": "https://localhost:8080/",
          "height": 458
        },
        "id": "aikoyjkYIPZO",
        "outputId": "6a3883fe-a12b-4bf8-af31-ecce2446aaea"
      },
      "source": [
        "import matplotlib.pyplot as plt\n",
        "coefsLasso = [] \n",
        "\n",
        "# Building Lasso for 200 values of alpha and write the coefficients into array\n",
        "# \n",
        "alphasLasso = np.arange (0, 20, 0.1) \n",
        "for i in range(200):\n",
        "    lasso = linear_model.Lasso(alpha=alphasLasso[i])\n",
        "    lasso.fit(X_train, y_train)\n",
        "    coefsLasso.append(lasso.coef_) \n",
        "\n",
        "# Building Lasso coefficient plots\n",
        "# \n",
        "plt.figure(figsize = (16,7))\n",
        "\n",
        "plt.subplot(121)\n",
        "plt.plot(alphasLasso, coefsLasso)\n",
        "plt.title('Lasso coefficients')\n",
        "plt.xlabel('alpha')\n",
        "plt.ylabel('coefs')\n",
        "\n",
        "plt.show()"
      ],
      "execution_count": 34,
      "outputs": [
        {
          "output_type": "display_data",
          "data": {
            "image/png": "[encoded data removed]",
            "text/plain": [
              "<Figure size 1152x504 with 1 Axes>"
            ]
          },
          "metadata": {
            "tags": [],
            "needs_background": "light"
          }
        }
      ]
    },
    {
      "cell_type": "markdown",
      "metadata": {
        "id": "1zJ8aVNkhEn9"
      },
      "source": [
        "Lasso Regression has a 0.6249028048855891 score and a RMSE of 225854.42518318503 "
      ]
    },
    {
      "cell_type": "markdown",
      "metadata": {
        "id": "8wAROhSfISnP"
      },
      "source": [
        "#ELASTIC NET REGRESSION"
      ]
    },
    {
      "cell_type": "code",
      "metadata": {
        "id": "Zyf08gn1Ihyr"
      },
      "source": [
        "from sklearn.linear_model import ElasticNet\n",
        "\n",
        "# data normalization\n",
        "#creating grid\n",
        "# \n",
        "elastic=ElasticNet(normalize=True)\n",
        "search=GridSearchCV(estimator=elastic,param_grid={'alpha':np.logspace(-5,2,8),'l1_ratio':[.2,.4,.6,.8]},scoring='neg_mean_squared_error',n_jobs=1,refit=True,cv=10)"
      ],
      "execution_count": 35,
      "outputs": []
    },
    {
      "cell_type": "code",
      "metadata": {
        "colab": {
          "base_uri": "https://localhost:8080/"
        },
        "id": "Ox8V-vEmI2yT",
        "outputId": "d9767171-2a8a-4eff-992e-5481db175e56"
      },
      "source": [
        "# Fitting the model to display best parameters abd best results for this setup.\n",
        "# \n",
        "search.fit(X,y)\n",
        "search.best_params_\n",
        "abs(search.best_score_)"
      ],
      "execution_count": 36,
      "outputs": [
        {
          "output_type": "execute_result",
          "data": {
            "text/plain": [
              "51977410743.561714"
            ]
          },
          "metadata": {
            "tags": []
          },
          "execution_count": 36
        }
      ]
    },
    {
      "cell_type": "code",
      "metadata": {
        "colab": {
          "base_uri": "https://localhost:8080/"
        },
        "id": "CNC0Aeg7onYM",
        "outputId": "872857a0-2a13-49e9-9281-c45d6cb86e73"
      },
      "source": [
        "search.fit(X_train,y_train)\n",
        "search.best_params_"
      ],
      "execution_count": 39,
      "outputs": [
        {
          "output_type": "execute_result",
          "data": {
            "text/plain": [
              "{'alpha': 1e-05, 'l1_ratio': 0.8}"
            ]
          },
          "metadata": {
            "tags": []
          },
          "execution_count": 39
        }
      ]
    },
    {
      "cell_type": "code",
      "metadata": {
        "colab": {
          "base_uri": "https://localhost:8080/"
        },
        "id": "0PoevRcRo1gV",
        "outputId": "6269fe53-2108-42f3-adc7-443190fdf2da"
      },
      "source": [
        "# Fitting the model\n",
        "\n",
        "elastic=ElasticNet(normalize=True,alpha=0.00001,l1_ratio=0.8)\n",
        "elastic.fit(X_train, y_train)\n",
        "\n",
        "# Making predictions\n",
        "#\n",
        "y_pred = elastic.predict(X_test)\n",
        "e = r2_score(y_test,y_pred)\n",
        "\n",
        "# getting RMSE & R2 score\n",
        "print(\"The RMSE for the Elastic model:\", np.sqrt(metrics.mean_squared_error(y_test, y_pred)))\n",
        "print(\"The R2 score for the elastic model is:\", e)"
      ],
      "execution_count": 40,
      "outputs": [
        {
          "output_type": "stream",
          "text": [
            "The RMSE for the Elastic model: 226018.4040072095\n",
            "The R2 score for the elastic model is: 0.6243579377618949\n"
          ],
          "name": "stdout"
        }
      ]
    },
    {
      "cell_type": "markdown",
      "metadata": {
        "id": "RJbUL7gZkMVu"
      },
      "source": [
        "#CONCLUSION\n",
        "\n",
        "Multiple Linear Regression model has an RMSE of 210453.9864782801 and the accuracy output at 0.662982673657134 \n",
        "\n",
        "The Quantile Regression model has average accuracy of 0.5789785891927457 and a low RMSE of 238378.19047341653\n",
        "\n",
        "The Ridge Regression model has an accuracy of 63% and low RMSE of  225852.05000334975\n",
        "\n",
        "Lasso Regression has a 0.6249028048855891 score and a RMSE of 225854.42518318503 "
      ]
    },
    {
      "cell_type": "code",
      "metadata": {
        "colab": {
          "base_uri": "https://localhost:8080/"
        },
        "id": "pKgY1zZppzgV",
        "outputId": "588bdafe-5c08-4cd7-d88e-cd51a9e88696"
      },
      "source": [
        "# Reviewing the Solution \n",
        "# Models vs r2 score.\n",
        "models = ['multi-linear', 'quantile', 'ridge', 'lasso', 'elastic']\n",
        "r2_scores = [a,b,c,d,e]\n",
        "model_results = pd.DataFrame({'Regresion models': models, 'r2_scores': r2_scores})\n",
        "print(model_results)\n",
        "print(\"**************\")\n",
        "print(\"The mean r2 scores is:\", model_results.mean())\n",
        "#model_results.sort_values(by = 'r2_scores',axis=0,ascending=False)"
      ],
      "execution_count": 48,
      "outputs": [
        {
          "output_type": "stream",
          "text": [
            "  Regresion models  r2_scores\n",
            "0     multi-linear   0.662983\n",
            "1         quantile   0.578979\n",
            "2            ridge   0.632198\n",
            "3            lasso   0.624358\n",
            "4          elastic   0.624358\n",
            "**************\n",
            "The mean r2 scores is: r2_scores    0.624575\n",
            "dtype: float64\n"
          ],
          "name": "stdout"
        }
      ]
    },
    {
      "cell_type": "markdown",
      "metadata": {
        "id": "Fmhcz1enqj0i"
      },
      "source": [
        "The average accuracy for our 5 models is 0.624575. It is relatively fair, although not very reliant. \n",
        "\n",
        "This means that the Multi-linear Regression model with the highest accuracy of 0.662983 while also exhibiting the lowest RMSE is our best model for this project.\n",
        "\n",
        "###Follow up questions\n",
        "From the above workings, it is clear that\n",
        "1. The dataset provided had the correct data for this project\n",
        "\n",
        "2. It is not necessary to have additional information for this project as what is provided is perfectly sufficient\n",
        "\n",
        "3. We did have the right question for the dataset provided"
      ]
    }
  ]
}